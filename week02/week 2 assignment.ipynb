{
 "cells": [
  {
   "cell_type": "code",
   "execution_count": 3,
   "id": "2c83782e-4b5e-4dc1-864f-9748a2ba0001",
   "metadata": {
    "tags": []
   },
   "outputs": [],
   "source": [
    "## Week 2 Assignment"
   ]
  },
  {
   "cell_type": "code",
   "execution_count": 4,
   "id": "db732a2a-4f51-4b11-9025-2aeb39614b73",
   "metadata": {},
   "outputs": [],
   "source": [
    "### This data set provides information on the pollution burden score across California. The pollution burden score \n",
    "### is an index ranging from 0.1 to 10 that measures potential exposure to pollutants and adverse environmental \n",
    "### conditions. The data can showcase which geographic areas across the state are most affected by pollition. "
   ]
  },
  {
   "cell_type": "code",
   "execution_count": 5,
   "id": "b2b1b3fd-b3e5-40f7-9365-2d55fb1ec23c",
   "metadata": {},
   "outputs": [],
   "source": [
    "import pandas as pd\n",
    "import geopandas as gpd"
   ]
  },
  {
   "cell_type": "code",
   "execution_count": 6,
   "id": "9130d76e-b4da-4a86-9c50-f769009ae08c",
   "metadata": {},
   "outputs": [],
   "source": [
    "# Just like Week 2 lab, I imported the geopandas module, which is a good tool to use for spatial analysis and \n",
    "# allows us to import spatial data formats. "
   ]
  },
  {
   "cell_type": "code",
   "execution_count": 7,
   "id": "65d5395f-1a43-4db3-828b-46141c07602b",
   "metadata": {},
   "outputs": [],
   "source": [
    "# Now I will import, read and add the csv file to this notebook."
   ]
  },
  {
   "cell_type": "code",
   "execution_count": 8,
   "id": "1ce917c8-7178-46da-815e-1f7e0c41413f",
   "metadata": {
    "tags": []
   },
   "outputs": [],
   "source": [
    "pollutionindex = pd.read_csv(\"All Years Pollution Burden Calculations.csv\")"
   ]
  },
  {
   "cell_type": "code",
   "execution_count": 9,
   "id": "6abe6e8a-3595-4f13-9976-8378300abba2",
   "metadata": {},
   "outputs": [],
   "source": [
    "# Now I will check to see if the data was imported correctly by checking the first 5 rows"
   ]
  },
  {
   "cell_type": "code",
   "execution_count": 10,
   "id": "7f4153fe-7a71-42eb-b87d-a80997352664",
   "metadata": {},
   "outputs": [
    {
     "data": {
      "text/html": [
       "<div>\n",
       "<style scoped>\n",
       "    .dataframe tbody tr th:only-of-type {\n",
       "        vertical-align: middle;\n",
       "    }\n",
       "\n",
       "    .dataframe tbody tr th {\n",
       "        vertical-align: top;\n",
       "    }\n",
       "\n",
       "    .dataframe thead th {\n",
       "        text-align: right;\n",
       "    }\n",
       "</style>\n",
       "<table border=\"1\" class=\"dataframe\">\n",
       "  <thead>\n",
       "    <tr style=\"text-align: right;\">\n",
       "      <th></th>\n",
       "      <th>geoid</th>\n",
       "      <th>geoid20</th>\n",
       "      <th>year</th>\n",
       "      <th>denom_total_pop</th>\n",
       "      <th>pollution_burden_score</th>\n",
       "    </tr>\n",
       "  </thead>\n",
       "  <tbody>\n",
       "    <tr>\n",
       "      <th>0</th>\n",
       "      <td>1400000US06037101110</td>\n",
       "      <td>6037101110</td>\n",
       "      <td>2021</td>\n",
       "      <td>4283</td>\n",
       "      <td>4.27</td>\n",
       "    </tr>\n",
       "    <tr>\n",
       "      <th>1</th>\n",
       "      <td>1400000US06037101122</td>\n",
       "      <td>6037101122</td>\n",
       "      <td>2021</td>\n",
       "      <td>3405</td>\n",
       "      <td>3.76</td>\n",
       "    </tr>\n",
       "    <tr>\n",
       "      <th>2</th>\n",
       "      <td>1400000US06037101220</td>\n",
       "      <td>6037101220</td>\n",
       "      <td>2021</td>\n",
       "      <td>3702</td>\n",
       "      <td>4.61</td>\n",
       "    </tr>\n",
       "    <tr>\n",
       "      <th>3</th>\n",
       "      <td>1400000US06037101221</td>\n",
       "      <td>6037101221</td>\n",
       "      <td>2021</td>\n",
       "      <td>3455</td>\n",
       "      <td>4.24</td>\n",
       "    </tr>\n",
       "    <tr>\n",
       "      <th>4</th>\n",
       "      <td>1400000US06037101222</td>\n",
       "      <td>6037101222</td>\n",
       "      <td>2021</td>\n",
       "      <td>2892</td>\n",
       "      <td>4.24</td>\n",
       "    </tr>\n",
       "  </tbody>\n",
       "</table>\n",
       "</div>"
      ],
      "text/plain": [
       "                  geoid     geoid20  year  denom_total_pop  \\\n",
       "0  1400000US06037101110  6037101110  2021             4283   \n",
       "1  1400000US06037101122  6037101122  2021             3405   \n",
       "2  1400000US06037101220  6037101220  2021             3702   \n",
       "3  1400000US06037101221  6037101221  2021             3455   \n",
       "4  1400000US06037101222  6037101222  2021             2892   \n",
       "\n",
       "   pollution_burden_score  \n",
       "0                    4.27  \n",
       "1                    3.76  \n",
       "2                    4.61  \n",
       "3                    4.24  \n",
       "4                    4.24  "
      ]
     },
     "execution_count": 10,
     "metadata": {},
     "output_type": "execute_result"
    }
   ],
   "source": [
    "pollutionindex.head()"
   ]
  },
  {
   "cell_type": "code",
   "execution_count": 11,
   "id": "d139328d-f789-4fbd-8ff7-8f95ce9589d1",
   "metadata": {},
   "outputs": [],
   "source": [
    "# Let me take a step back, and also look at the type of data that this data set titled \n",
    "# pollutionindex is "
   ]
  },
  {
   "cell_type": "code",
   "execution_count": 12,
   "id": "a04c4312-3d8a-4440-90b2-2011661b5510",
   "metadata": {},
   "outputs": [
    {
     "data": {
      "text/plain": [
       "pandas.core.frame.DataFrame"
      ]
     },
     "execution_count": 12,
     "metadata": {},
     "output_type": "execute_result"
    }
   ],
   "source": [
    "type(pollutionindex)"
   ]
  },
  {
   "cell_type": "code",
   "execution_count": 13,
   "id": "a2ebc8a4-60c7-47b1-b760-e0dc51311511",
   "metadata": {},
   "outputs": [],
   "source": [
    "# I am also going to look at the last 5 rows of this data frame using the tail function"
   ]
  },
  {
   "cell_type": "code",
   "execution_count": 14,
   "id": "c3b078e9-e055-41ab-abc9-19ef39ece436",
   "metadata": {},
   "outputs": [
    {
     "data": {
      "text/html": [
       "<div>\n",
       "<style scoped>\n",
       "    .dataframe tbody tr th:only-of-type {\n",
       "        vertical-align: middle;\n",
       "    }\n",
       "\n",
       "    .dataframe tbody tr th {\n",
       "        vertical-align: top;\n",
       "    }\n",
       "\n",
       "    .dataframe thead th {\n",
       "        text-align: right;\n",
       "    }\n",
       "</style>\n",
       "<table border=\"1\" class=\"dataframe\">\n",
       "  <thead>\n",
       "    <tr style=\"text-align: right;\">\n",
       "      <th></th>\n",
       "      <th>geoid</th>\n",
       "      <th>geoid20</th>\n",
       "      <th>year</th>\n",
       "      <th>denom_total_pop</th>\n",
       "      <th>pollution_burden_score</th>\n",
       "    </tr>\n",
       "  </thead>\n",
       "  <tbody>\n",
       "    <tr>\n",
       "      <th>7474</th>\n",
       "      <td>1400000US06037980035</td>\n",
       "      <td>6037980035</td>\n",
       "      <td>2014</td>\n",
       "      <td>6690</td>\n",
       "      <td>8.620000</td>\n",
       "    </tr>\n",
       "    <tr>\n",
       "      <th>7475</th>\n",
       "      <td>1400000US06037980036</td>\n",
       "      <td>6037980036</td>\n",
       "      <td>2014</td>\n",
       "      <td>7785</td>\n",
       "      <td>8.729999</td>\n",
       "    </tr>\n",
       "    <tr>\n",
       "      <th>7476</th>\n",
       "      <td>1400000US06037980037</td>\n",
       "      <td>6037980037</td>\n",
       "      <td>2014</td>\n",
       "      <td>2786</td>\n",
       "      <td>6.410000</td>\n",
       "    </tr>\n",
       "    <tr>\n",
       "      <th>7477</th>\n",
       "      <td>1400000US06037980038</td>\n",
       "      <td>6037980038</td>\n",
       "      <td>2014</td>\n",
       "      <td>5199</td>\n",
       "      <td>7.490000</td>\n",
       "    </tr>\n",
       "    <tr>\n",
       "      <th>7478</th>\n",
       "      <td>1400000US06037980039</td>\n",
       "      <td>6037980039</td>\n",
       "      <td>2014</td>\n",
       "      <td>157</td>\n",
       "      <td>6.990000</td>\n",
       "    </tr>\n",
       "  </tbody>\n",
       "</table>\n",
       "</div>"
      ],
      "text/plain": [
       "                     geoid     geoid20  year  denom_total_pop  \\\n",
       "7474  1400000US06037980035  6037980035  2014             6690   \n",
       "7475  1400000US06037980036  6037980036  2014             7785   \n",
       "7476  1400000US06037980037  6037980037  2014             2786   \n",
       "7477  1400000US06037980038  6037980038  2014             5199   \n",
       "7478  1400000US06037980039  6037980039  2014              157   \n",
       "\n",
       "      pollution_burden_score  \n",
       "7474                8.620000  \n",
       "7475                8.729999  \n",
       "7476                6.410000  \n",
       "7477                7.490000  \n",
       "7478                6.990000  "
      ]
     },
     "execution_count": 14,
     "metadata": {},
     "output_type": "execute_result"
    }
   ],
   "source": [
    "pollutionindex.tail()"
   ]
  },
  {
   "cell_type": "code",
   "execution_count": 15,
   "id": "b26a4865-d24e-4cad-a7b5-2fc6884b5301",
   "metadata": {},
   "outputs": [],
   "source": [
    "# I am also interested in looking at how many data entries are shown in this data frame using\n",
    "# the info function since this dataset does not have as many columns or rows of information "
   ]
  },
  {
   "cell_type": "code",
   "execution_count": 16,
   "id": "46526006-f118-4c61-81c9-734150da9c4f",
   "metadata": {},
   "outputs": [
    {
     "name": "stdout",
     "output_type": "stream",
     "text": [
      "<class 'pandas.core.frame.DataFrame'>\n",
      "RangeIndex: 7479 entries, 0 to 7478\n",
      "Data columns (total 5 columns):\n",
      " #   Column                  Non-Null Count  Dtype  \n",
      "---  ------                  --------------  -----  \n",
      " 0   geoid                   7479 non-null   object \n",
      " 1   geoid20                 7479 non-null   int64  \n",
      " 2   year                    7479 non-null   int64  \n",
      " 3   denom_total_pop         7479 non-null   int64  \n",
      " 4   pollution_burden_score  7479 non-null   float64\n",
      "dtypes: float64(1), int64(3), object(1)\n",
      "memory usage: 292.3+ KB\n"
     ]
    }
   ],
   "source": [
    "pollutionindex.info()"
   ]
  },
  {
   "cell_type": "code",
   "execution_count": 17,
   "id": "bfc22b7c-3fe4-484a-b7bc-32af4a50adb2",
   "metadata": {},
   "outputs": [],
   "source": [
    "# Let's continue the data exploration by taking a look at the shape function which allows \n",
    "# us to see the data dimensions of our data set's columns and rows"
   ]
  },
  {
   "cell_type": "code",
   "execution_count": 18,
   "id": "167fc48d-3a0b-44bc-a3e0-14d9e861f51f",
   "metadata": {},
   "outputs": [
    {
     "data": {
      "text/plain": [
       "(7479, 5)"
      ]
     },
     "execution_count": 18,
     "metadata": {},
     "output_type": "execute_result"
    }
   ],
   "source": [
    "pollutionindex.shape"
   ]
  },
  {
   "cell_type": "code",
   "execution_count": 19,
   "id": "9fc70334-a806-4ae2-b433-bbc275488668",
   "metadata": {},
   "outputs": [],
   "source": [
    "# This data set is definitely unique in that it has little columns, let's see what the are using \n",
    "# the columns function"
   ]
  },
  {
   "cell_type": "code",
   "execution_count": 20,
   "id": "446c08fd-e5af-4fe2-9932-864b740cccd6",
   "metadata": {},
   "outputs": [
    {
     "data": {
      "text/plain": [
       "['geoid', 'geoid20', 'year', 'denom_total_pop', 'pollution_burden_score']"
      ]
     },
     "execution_count": 20,
     "metadata": {},
     "output_type": "execute_result"
    }
   ],
   "source": [
    "pollutionindex.columns.to_list()"
   ]
  },
  {
   "cell_type": "code",
   "execution_count": 21,
   "id": "0dce2c99-16b0-4dfa-a2d9-cde4b711d2dd",
   "metadata": {},
   "outputs": [],
   "source": [
    "# I will to continue looking into how to get values from these single columns function"
   ]
  },
  {
   "cell_type": "code",
   "execution_count": 22,
   "id": "5d860e00-dda9-4c54-9e12-b51aed6c9b81",
   "metadata": {},
   "outputs": [
    {
     "data": {
      "text/plain": [
       "1522    7.10\n",
       "5799    6.79\n",
       "4548    6.39\n",
       "2798    5.59\n",
       "7265    5.45\n",
       "Name: pollution_burden_score, dtype: float64"
      ]
     },
     "execution_count": 22,
     "metadata": {},
     "output_type": "execute_result"
    }
   ],
   "source": [
    "pollutionindex['pollution_burden_score'].sample(5)"
   ]
  },
  {
   "cell_type": "code",
   "execution_count": 23,
   "id": "d74955a2-aa9b-4f32-915c-34bb18003250",
   "metadata": {},
   "outputs": [],
   "source": [
    "# Assuming pollution burden score in the data is regarding the city/location, \n",
    "# lets see how many there are "
   ]
  },
  {
   "cell_type": "code",
   "execution_count": 24,
   "id": "9899b129-b450-4b93-9ce9-1b2693b8b693",
   "metadata": {},
   "outputs": [
    {
     "data": {
      "text/plain": [
       "6.12    35\n",
       "6.08    35\n",
       "6.42    35\n",
       "6.26    34\n",
       "5.59    34\n",
       "        ..\n",
       "3.74     1\n",
       "8.78     1\n",
       "8.74     1\n",
       "3.77     1\n",
       "2.39     1\n",
       "Name: pollution_burden_score, Length: 707, dtype: int64"
      ]
     },
     "execution_count": 24,
     "metadata": {},
     "output_type": "execute_result"
    }
   ],
   "source": [
    "pollutionindex['pollution_burden_score'].value_counts()"
   ]
  },
  {
   "cell_type": "code",
   "execution_count": 25,
   "id": "940f6892-1522-47d9-abc8-359deef81254",
   "metadata": {},
   "outputs": [],
   "source": [
    "# Let me try and save this as a variable similar to our Week 2 lab"
   ]
  },
  {
   "cell_type": "code",
   "execution_count": 26,
   "id": "dc14294b-65f7-4f3f-840c-1b947028fe2b",
   "metadata": {},
   "outputs": [],
   "source": [
    "pollution_score = pollutionindex['pollution_burden_score'].value_counts()"
   ]
  },
  {
   "cell_type": "code",
   "execution_count": 27,
   "id": "1d3bd2fa-5bc2-41d2-8930-c3bb9081b917",
   "metadata": {},
   "outputs": [
    {
     "data": {
      "text/plain": [
       "6.12    35\n",
       "6.08    35\n",
       "6.42    35\n",
       "6.26    34\n",
       "5.59    34\n",
       "        ..\n",
       "3.74     1\n",
       "8.78     1\n",
       "8.74     1\n",
       "3.77     1\n",
       "2.39     1\n",
       "Name: pollution_burden_score, Length: 707, dtype: int64"
      ]
     },
     "execution_count": 27,
     "metadata": {},
     "output_type": "execute_result"
    }
   ],
   "source": [
    "pollution_score"
   ]
  },
  {
   "cell_type": "code",
   "execution_count": 28,
   "id": "9574dbed-58c2-4856-9e58-81fff8bc1b63",
   "metadata": {},
   "outputs": [],
   "source": [
    "# Now we will see what data type pollution_score using the type function again"
   ]
  },
  {
   "cell_type": "code",
   "execution_count": 29,
   "id": "f34c4af4-5fe9-49c7-9712-333f1bf9106b",
   "metadata": {},
   "outputs": [
    {
     "data": {
      "text/plain": [
       "pandas.core.series.Series"
      ]
     },
     "execution_count": 29,
     "metadata": {},
     "output_type": "execute_result"
    }
   ],
   "source": [
    "type(pollution_score)"
   ]
  },
  {
   "cell_type": "code",
   "execution_count": 30,
   "id": "de4680b2-82e1-483d-9d1f-19f15fb79678",
   "metadata": {},
   "outputs": [],
   "source": [
    "# Plotting this data column would be interesting to see, let's run it using the plot function"
   ]
  },
  {
   "cell_type": "code",
   "execution_count": 31,
   "id": "0279f05d-8831-4543-b611-fb5e68575fc1",
   "metadata": {},
   "outputs": [
    {
     "data": {
      "text/plain": [
       "<AxesSubplot: >"
      ]
     },
     "execution_count": 31,
     "metadata": {},
     "output_type": "execute_result"
    },
    {
     "data": {
      "image/png": "[encoded data removed]",
      "text/plain": [
       "<Figure size 640x480 with 1 Axes>"
      ]
     },
     "metadata": {},
     "output_type": "display_data"
    }
   ],
   "source": [
    "pollution_score.plot()"
   ]
  },
  {
   "cell_type": "code",
   "execution_count": 32,
   "id": "90f9c0d9-bd74-4325-9df9-15ed1d66ffa0",
   "metadata": {},
   "outputs": [],
   "source": [
    "# It seems like this doesn't give much information, as most geoids are similar in number, \n",
    "# and it does not any information on actual pollution trends within these cities "
   ]
  },
  {
   "cell_type": "code",
   "execution_count": 33,
   "id": "d7105df6-84f3-484b-9a46-2e28098b2b2f",
   "metadata": {},
   "outputs": [
    {
     "data": {
      "text/plain": [
       "<AxesSubplot: title={'center': 'Pollution Index Locations'}>"
      ]
     },
     "execution_count": 33,
     "metadata": {},
     "output_type": "execute_result"
    },
    {
     "data": {
      "image/png": "[encoded data removed]",
      "text/plain": [
       "<Figure size 640x480 with 1 Axes>"
      ]
     },
     "metadata": {},
     "output_type": "display_data"
    }
   ],
   "source": [
    "pollution_score.plot.bar(x='', y='count', title='Pollution Index Locations')"
   ]
  },
  {
   "cell_type": "code",
   "execution_count": 34,
   "id": "b9810481-ce50-4eff-8770-318af77a3adf",
   "metadata": {},
   "outputs": [],
   "source": [
    "# A bar plot is overwhelming for this type of data, we need to look at trimming to get a \n",
    "# better visual representation for spatial analysis "
   ]
  },
  {
   "cell_type": "code",
   "execution_count": 89,
   "id": "6573f310-9584-448a-920d-8c8efc73cef9",
   "metadata": {},
   "outputs": [
    {
     "data": {
      "text/html": [
       "<div>\n",
       "<style scoped>\n",
       "    .dataframe tbody tr th:only-of-type {\n",
       "        vertical-align: middle;\n",
       "    }\n",
       "\n",
       "    .dataframe tbody tr th {\n",
       "        vertical-align: top;\n",
       "    }\n",
       "\n",
       "    .dataframe thead th {\n",
       "        text-align: right;\n",
       "    }\n",
       "</style>\n",
       "<table border=\"1\" class=\"dataframe\">\n",
       "  <thead>\n",
       "    <tr style=\"text-align: right;\">\n",
       "      <th></th>\n",
       "      <th>geoid</th>\n",
       "      <th>geoid20</th>\n",
       "      <th>pollution_burden_score</th>\n",
       "    </tr>\n",
       "  </thead>\n",
       "  <tbody>\n",
       "    <tr>\n",
       "      <th>0</th>\n",
       "      <td>1400000US06037101110</td>\n",
       "      <td>6037101110</td>\n",
       "      <td>4.270000</td>\n",
       "    </tr>\n",
       "    <tr>\n",
       "      <th>1</th>\n",
       "      <td>1400000US06037101122</td>\n",
       "      <td>6037101122</td>\n",
       "      <td>3.760000</td>\n",
       "    </tr>\n",
       "    <tr>\n",
       "      <th>2</th>\n",
       "      <td>1400000US06037101220</td>\n",
       "      <td>6037101220</td>\n",
       "      <td>4.610000</td>\n",
       "    </tr>\n",
       "    <tr>\n",
       "      <th>3</th>\n",
       "      <td>1400000US06037101221</td>\n",
       "      <td>6037101221</td>\n",
       "      <td>4.240000</td>\n",
       "    </tr>\n",
       "    <tr>\n",
       "      <th>4</th>\n",
       "      <td>1400000US06037101222</td>\n",
       "      <td>6037101222</td>\n",
       "      <td>4.240000</td>\n",
       "    </tr>\n",
       "    <tr>\n",
       "      <th>...</th>\n",
       "      <td>...</td>\n",
       "      <td>...</td>\n",
       "      <td>...</td>\n",
       "    </tr>\n",
       "    <tr>\n",
       "      <th>7474</th>\n",
       "      <td>1400000US06037980035</td>\n",
       "      <td>6037980035</td>\n",
       "      <td>8.620000</td>\n",
       "    </tr>\n",
       "    <tr>\n",
       "      <th>7475</th>\n",
       "      <td>1400000US06037980036</td>\n",
       "      <td>6037980036</td>\n",
       "      <td>8.729999</td>\n",
       "    </tr>\n",
       "    <tr>\n",
       "      <th>7476</th>\n",
       "      <td>1400000US06037980037</td>\n",
       "      <td>6037980037</td>\n",
       "      <td>6.410000</td>\n",
       "    </tr>\n",
       "    <tr>\n",
       "      <th>7477</th>\n",
       "      <td>1400000US06037980038</td>\n",
       "      <td>6037980038</td>\n",
       "      <td>7.490000</td>\n",
       "    </tr>\n",
       "    <tr>\n",
       "      <th>7478</th>\n",
       "      <td>1400000US06037980039</td>\n",
       "      <td>6037980039</td>\n",
       "      <td>6.990000</td>\n",
       "    </tr>\n",
       "  </tbody>\n",
       "</table>\n",
       "<p>7479 rows × 3 columns</p>\n",
       "</div>"
      ],
      "text/plain": [
       "                     geoid     geoid20  pollution_burden_score\n",
       "0     1400000US06037101110  6037101110                4.270000\n",
       "1     1400000US06037101122  6037101122                3.760000\n",
       "2     1400000US06037101220  6037101220                4.610000\n",
       "3     1400000US06037101221  6037101221                4.240000\n",
       "4     1400000US06037101222  6037101222                4.240000\n",
       "...                    ...         ...                     ...\n",
       "7474  1400000US06037980035  6037980035                8.620000\n",
       "7475  1400000US06037980036  6037980036                8.729999\n",
       "7476  1400000US06037980037  6037980037                6.410000\n",
       "7477  1400000US06037980038  6037980038                7.490000\n",
       "7478  1400000US06037980039  6037980039                6.990000\n",
       "\n",
       "[7479 rows x 3 columns]"
      ]
     },
     "execution_count": 89,
     "metadata": {},
     "output_type": "execute_result"
    }
   ],
   "source": [
    "pollutionindex[['geoid','geoid20','pollution_burden_score']]"
   ]
  },
  {
   "cell_type": "code",
   "execution_count": 90,
   "id": "ac14c998-a759-45eb-8a32-f0008fadcc21",
   "metadata": {},
   "outputs": [],
   "source": [
    "# I am going to use the desired columns function like in the Week 2 lab to ensure the columns I want to concentrate\n",
    "# on are listed"
   ]
  },
  {
   "cell_type": "code",
   "execution_count": 92,
   "id": "85d50f80-9229-4c28-880f-2643b8f8612a",
   "metadata": {},
   "outputs": [],
   "source": [
    "desired_columns = ['geoid','geoid20','pollution_burden_score']"
   ]
  },
  {
   "cell_type": "code",
   "execution_count": 93,
   "id": "aa22f0a8-a4ff-4e9c-abff-e2dcb16140a5",
   "metadata": {},
   "outputs": [
    {
     "data": {
      "text/html": [
       "<div>\n",
       "<style scoped>\n",
       "    .dataframe tbody tr th:only-of-type {\n",
       "        vertical-align: middle;\n",
       "    }\n",
       "\n",
       "    .dataframe tbody tr th {\n",
       "        vertical-align: top;\n",
       "    }\n",
       "\n",
       "    .dataframe thead th {\n",
       "        text-align: right;\n",
       "    }\n",
       "</style>\n",
       "<table border=\"1\" class=\"dataframe\">\n",
       "  <thead>\n",
       "    <tr style=\"text-align: right;\">\n",
       "      <th></th>\n",
       "      <th>geoid</th>\n",
       "      <th>geoid20</th>\n",
       "      <th>pollution_burden_score</th>\n",
       "    </tr>\n",
       "  </thead>\n",
       "  <tbody>\n",
       "    <tr>\n",
       "      <th>6941</th>\n",
       "      <td>1400000US06037570701</td>\n",
       "      <td>6037570701</td>\n",
       "      <td>6.49</td>\n",
       "    </tr>\n",
       "    <tr>\n",
       "      <th>3528</th>\n",
       "      <td>1400000US06037276605</td>\n",
       "      <td>6037276605</td>\n",
       "      <td>5.51</td>\n",
       "    </tr>\n",
       "    <tr>\n",
       "      <th>2211</th>\n",
       "      <td>1400000US06037651401</td>\n",
       "      <td>6037651401</td>\n",
       "      <td>5.43</td>\n",
       "    </tr>\n",
       "    <tr>\n",
       "      <th>492</th>\n",
       "      <td>1400000US06037192300</td>\n",
       "      <td>6037192300</td>\n",
       "      <td>6.34</td>\n",
       "    </tr>\n",
       "    <tr>\n",
       "      <th>4605</th>\n",
       "      <td>1400000US06037602510</td>\n",
       "      <td>6037602510</td>\n",
       "      <td>7.43</td>\n",
       "    </tr>\n",
       "  </tbody>\n",
       "</table>\n",
       "</div>"
      ],
      "text/plain": [
       "                     geoid     geoid20  pollution_burden_score\n",
       "6941  1400000US06037570701  6037570701                    6.49\n",
       "3528  1400000US06037276605  6037276605                    5.51\n",
       "2211  1400000US06037651401  6037651401                    5.43\n",
       "492   1400000US06037192300  6037192300                    6.34\n",
       "4605  1400000US06037602510  6037602510                    7.43"
      ]
     },
     "execution_count": 93,
     "metadata": {},
     "output_type": "execute_result"
    }
   ],
   "source": [
    "pollutionindex[desired_columns].sample(5)"
   ]
  },
  {
   "cell_type": "code",
   "execution_count": 94,
   "id": "4f5613cf-a032-42a5-89b8-7e9207d98ecc",
   "metadata": {},
   "outputs": [],
   "source": [
    "# Now that I have trimmed the data, I want to make sure that we preserve this trimmed version of the dataset "
   ]
  },
  {
   "cell_type": "code",
   "execution_count": 95,
   "id": "32214f91-1c1e-4fb7-a9b0-2a2ef9f71b9b",
   "metadata": {},
   "outputs": [],
   "source": [
    "pollutionindex_trimmed = pollutionindex[desired_columns].copy()"
   ]
  },
  {
   "cell_type": "code",
   "execution_count": 96,
   "id": "eb424dd4-6b99-4ed3-93a8-d93e72f5096b",
   "metadata": {},
   "outputs": [
    {
     "data": {
      "text/html": [
       "<div>\n",
       "<style scoped>\n",
       "    .dataframe tbody tr th:only-of-type {\n",
       "        vertical-align: middle;\n",
       "    }\n",
       "\n",
       "    .dataframe tbody tr th {\n",
       "        vertical-align: top;\n",
       "    }\n",
       "\n",
       "    .dataframe thead th {\n",
       "        text-align: right;\n",
       "    }\n",
       "</style>\n",
       "<table border=\"1\" class=\"dataframe\">\n",
       "  <thead>\n",
       "    <tr style=\"text-align: right;\">\n",
       "      <th></th>\n",
       "      <th>geoid</th>\n",
       "      <th>geoid20</th>\n",
       "      <th>pollution_burden_score</th>\n",
       "    </tr>\n",
       "  </thead>\n",
       "  <tbody>\n",
       "    <tr>\n",
       "      <th>0</th>\n",
       "      <td>1400000US06037101110</td>\n",
       "      <td>6037101110</td>\n",
       "      <td>4.270000</td>\n",
       "    </tr>\n",
       "    <tr>\n",
       "      <th>1</th>\n",
       "      <td>1400000US06037101122</td>\n",
       "      <td>6037101122</td>\n",
       "      <td>3.760000</td>\n",
       "    </tr>\n",
       "    <tr>\n",
       "      <th>2</th>\n",
       "      <td>1400000US06037101220</td>\n",
       "      <td>6037101220</td>\n",
       "      <td>4.610000</td>\n",
       "    </tr>\n",
       "    <tr>\n",
       "      <th>3</th>\n",
       "      <td>1400000US06037101221</td>\n",
       "      <td>6037101221</td>\n",
       "      <td>4.240000</td>\n",
       "    </tr>\n",
       "    <tr>\n",
       "      <th>4</th>\n",
       "      <td>1400000US06037101222</td>\n",
       "      <td>6037101222</td>\n",
       "      <td>4.240000</td>\n",
       "    </tr>\n",
       "    <tr>\n",
       "      <th>...</th>\n",
       "      <td>...</td>\n",
       "      <td>...</td>\n",
       "      <td>...</td>\n",
       "    </tr>\n",
       "    <tr>\n",
       "      <th>7474</th>\n",
       "      <td>1400000US06037980035</td>\n",
       "      <td>6037980035</td>\n",
       "      <td>8.620000</td>\n",
       "    </tr>\n",
       "    <tr>\n",
       "      <th>7475</th>\n",
       "      <td>1400000US06037980036</td>\n",
       "      <td>6037980036</td>\n",
       "      <td>8.729999</td>\n",
       "    </tr>\n",
       "    <tr>\n",
       "      <th>7476</th>\n",
       "      <td>1400000US06037980037</td>\n",
       "      <td>6037980037</td>\n",
       "      <td>6.410000</td>\n",
       "    </tr>\n",
       "    <tr>\n",
       "      <th>7477</th>\n",
       "      <td>1400000US06037980038</td>\n",
       "      <td>6037980038</td>\n",
       "      <td>7.490000</td>\n",
       "    </tr>\n",
       "    <tr>\n",
       "      <th>7478</th>\n",
       "      <td>1400000US06037980039</td>\n",
       "      <td>6037980039</td>\n",
       "      <td>6.990000</td>\n",
       "    </tr>\n",
       "  </tbody>\n",
       "</table>\n",
       "<p>7479 rows × 3 columns</p>\n",
       "</div>"
      ],
      "text/plain": [
       "                     geoid     geoid20  pollution_burden_score\n",
       "0     1400000US06037101110  6037101110                4.270000\n",
       "1     1400000US06037101122  6037101122                3.760000\n",
       "2     1400000US06037101220  6037101220                4.610000\n",
       "3     1400000US06037101221  6037101221                4.240000\n",
       "4     1400000US06037101222  6037101222                4.240000\n",
       "...                    ...         ...                     ...\n",
       "7474  1400000US06037980035  6037980035                8.620000\n",
       "7475  1400000US06037980036  6037980036                8.729999\n",
       "7476  1400000US06037980037  6037980037                6.410000\n",
       "7477  1400000US06037980038  6037980038                7.490000\n",
       "7478  1400000US06037980039  6037980039                6.990000\n",
       "\n",
       "[7479 rows x 3 columns]"
      ]
     },
     "execution_count": 96,
     "metadata": {},
     "output_type": "execute_result"
    }
   ],
   "source": [
    "pollutionindex_trimmed"
   ]
  },
  {
   "cell_type": "code",
   "execution_count": 97,
   "id": "3be2985e-fe00-4387-99ca-214afe850854",
   "metadata": {},
   "outputs": [],
   "source": [
    "# Since my data is mostly numerical, I tried to query for a pollution_burden_score above a 4.24 but it appears the \n",
    "# table did not populate"
   ]
  },
  {
   "cell_type": "code",
   "execution_count": 98,
   "id": "debd7d02-af23-4283-8ccc-95bf4ac5e583",
   "metadata": {
    "tags": []
   },
   "outputs": [
    {
     "data": {
      "text/html": [
       "<div>\n",
       "<style scoped>\n",
       "    .dataframe tbody tr th:only-of-type {\n",
       "        vertical-align: middle;\n",
       "    }\n",
       "\n",
       "    .dataframe tbody tr th {\n",
       "        vertical-align: top;\n",
       "    }\n",
       "\n",
       "    .dataframe thead th {\n",
       "        text-align: right;\n",
       "    }\n",
       "</style>\n",
       "<table border=\"1\" class=\"dataframe\">\n",
       "  <thead>\n",
       "    <tr style=\"text-align: right;\">\n",
       "      <th></th>\n",
       "      <th>geoid</th>\n",
       "      <th>geoid20</th>\n",
       "      <th>pollution_burden_score</th>\n",
       "    </tr>\n",
       "  </thead>\n",
       "  <tbody>\n",
       "  </tbody>\n",
       "</table>\n",
       "</div>"
      ],
      "text/plain": [
       "Empty DataFrame\n",
       "Columns: [geoid, geoid20, pollution_burden_score]\n",
       "Index: []"
      ]
     },
     "execution_count": 98,
     "metadata": {},
     "output_type": "execute_result"
    }
   ],
   "source": [
    "pollutionindex_trimmed[pollutionindex_trimmed.pollution_burden_score == '4.240000']"
   ]
  },
  {
   "cell_type": "code",
   "execution_count": 99,
   "id": "ec1c1afa-33db-4d18-9484-8e9d00fade52",
   "metadata": {},
   "outputs": [],
   "source": [
    "# The last thing I want to try is plotting the bigger data set using the plot command "
   ]
  },
  {
   "cell_type": "code",
   "execution_count": 100,
   "id": "90cc6fe5-5e94-4da4-af1d-7bf8f268ae17",
   "metadata": {},
   "outputs": [
    {
     "data": {
      "text/plain": [
       "<AxesSubplot: >"
      ]
     },
     "execution_count": 100,
     "metadata": {},
     "output_type": "execute_result"
    },
    {
     "data": {
      "image/png": "[encoded data removed]",
      "text/plain": [
       "<Figure size 640x480 with 1 Axes>"
      ]
     },
     "metadata": {},
     "output_type": "display_data"
    }
   ],
   "source": [
    "pollutionindex_trimmed.plot()"
   ]
  },
  {
   "cell_type": "code",
   "execution_count": 109,
   "id": "cbcd0bf7-5b01-43c5-ab01-88427dabddc1",
   "metadata": {},
   "outputs": [],
   "source": [
    "# Let's try adding more specific information, it looks like the plot function is not registering the geoids "
   ]
  },
  {
   "cell_type": "code",
   "execution_count": 112,
   "id": "2ecbbce3-fa5f-4d1d-8243-58c74c2f3b7f",
   "metadata": {},
   "outputs": [
    {
     "data": {
      "text/plain": [
       "<AxesSubplot: title={'center': 'Pollution Index CA'}, xlabel='geoid'>"
      ]
     },
     "execution_count": 112,
     "metadata": {},
     "output_type": "execute_result"
    },
    {
     "data": {
      "image/png": "[encoded data removed]",
      "text/plain": [
       "<Figure size 640x480 with 1 Axes>"
      ]
     },
     "metadata": {},
     "output_type": "display_data"
    }
   ],
   "source": [
    "pollutionindex_trimmed.plot(x='geoid', y='pollution_burden_score', title='Pollution Index CA')"
   ]
  },
  {
   "cell_type": "code",
   "execution_count": 113,
   "id": "c59ed44d-b481-42b1-b5f0-42906b1ed4e6",
   "metadata": {},
   "outputs": [],
   "source": [
    "# Hmmm not the prettiest graph either, and it does not give much of any information on pollution trends within\n",
    "# the geoids. The next step would be to find data that has identifies CA geoid, and import that data or find a data \n",
    "# set with geometry "
   ]
  },
  {
   "cell_type": "code",
   "execution_count": null,
   "id": "f958eb0d-d632-43a5-ae48-115ad357aee7",
   "metadata": {},
   "outputs": [],
   "source": []
  }
 ],
 "metadata": {
  "kernelspec": {
   "display_name": "Python 3 (ipykernel)",
   "language": "python",
   "name": "python3"
  },
  "language_info": {
   "codemirror_mode": {
    "name": "ipython",
    "version": 3
   },
   "file_extension": ".py",
   "mimetype": "text/x-python",
   "name": "python",
   "nbconvert_exporter": "python",
   "pygments_lexer": "ipython3",
   "version": "3.10.8"
  }
 },
 "nbformat": 4,
 "nbformat_minor": 5
}
